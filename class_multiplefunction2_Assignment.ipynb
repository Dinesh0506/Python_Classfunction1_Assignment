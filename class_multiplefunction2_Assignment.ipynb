{
 "cells": [
  {
   "cell_type": "code",
   "execution_count": 1,
   "id": "9d07972c",
   "metadata": {},
   "outputs": [],
   "source": [
    "from multipleoperation import multipleoperation"
   ]
  },
  {
   "cell_type": "code",
   "execution_count": 2,
   "id": "f7fc9492",
   "metadata": {},
   "outputs": [
    {
     "name": "stdout",
     "output_type": "stream",
     "text": [
      "sub-fields in AI are:\n",
      "Machine Learning\n",
      "Neural networks\n",
      "Vision\n",
      "Robotics\n",
      "Speech Processing\n",
      "Natural Language Processing\n"
     ]
    }
   ],
   "source": [
    "multipleoperation.subfields()"
   ]
  },
  {
   "cell_type": "code",
   "execution_count": 3,
   "id": "4cfd8be3",
   "metadata": {},
   "outputs": [
    {
     "name": "stdout",
     "output_type": "stream",
     "text": [
      "enter a number12\n",
      "12 is even number\n"
     ]
    }
   ],
   "source": [
    "multipleoperation.oddeven()"
   ]
  },
  {
   "cell_type": "code",
   "execution_count": 4,
   "id": "ff7efef8",
   "metadata": {},
   "outputs": [
    {
     "name": "stdout",
     "output_type": "stream",
     "text": [
      "enter a gendermale\n",
      "enter a age20\n",
      "your gender: male\n",
      "your age: 20\n",
      "eleigle\n"
     ]
    }
   ],
   "source": [
    "multipleoperation.Eleigle()"
   ]
  },
  {
   "cell_type": "code",
   "execution_count": 5,
   "id": "d8ad78a5",
   "metadata": {},
   "outputs": [
    {
     "name": "stdout",
     "output_type": "stream",
     "text": [
      "enter subject120\n",
      "enter subject220\n",
      "enter subject320\n",
      "enter subject420\n",
      "enter subject520\n",
      "subject1= 20\n",
      "subject2= 20\n",
      "subject3= 20\n",
      "subject4= 20\n",
      "subject5= 20\n",
      "total: 100\n",
      "percent: 20.0\n"
     ]
    }
   ],
   "source": [
    "multipleoperation.percentage()"
   ]
  },
  {
   "cell_type": "code",
   "execution_count": 6,
   "id": "363b7d31",
   "metadata": {},
   "outputs": [
    {
     "name": "stdout",
     "output_type": "stream",
     "text": [
      "enter a height:32\n",
      "32.0\n",
      "enter a breadth:34\n",
      "34.0\n",
      "enter a height1:2\n",
      "2.0\n",
      "enter a height2:4\n",
      "4.0\n",
      "enter a breadth1:4\n",
      "4.0\n",
      "height: 32.0\n",
      "breadth: 34.0\n",
      "Area of triangle: 544.0\n",
      "height1: 2.0\n",
      "height2: 4.0\n",
      "breadth1: 4.0\n",
      "parameter of triangle: 10.0\n"
     ]
    }
   ],
   "source": [
    "multipleoperation.triangle()"
   ]
  },
  {
   "cell_type": "code",
   "execution_count": null,
   "id": "3447b17c",
   "metadata": {},
   "outputs": [],
   "source": []
  }
 ],
 "metadata": {
  "kernelspec": {
   "display_name": "Python 3 (ipykernel)",
   "language": "python",
   "name": "python3"
  },
  "language_info": {
   "codemirror_mode": {
    "name": "ipython",
    "version": 3
   },
   "file_extension": ".py",
   "mimetype": "text/x-python",
   "name": "python",
   "nbconvert_exporter": "python",
   "pygments_lexer": "ipython3",
   "version": "3.9.13"
  }
 },
 "nbformat": 4,
 "nbformat_minor": 5
}
