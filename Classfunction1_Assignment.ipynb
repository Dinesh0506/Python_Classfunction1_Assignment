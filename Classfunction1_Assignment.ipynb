{
 "cells": [
  {
   "cell_type": "code",
   "execution_count": 1,
   "id": "be392143",
   "metadata": {},
   "outputs": [],
   "source": [
    "class subfieldsInAI():\n",
    "    def subfields():\n",
    "        print('sub-fields in AI are:')\n",
    "        print('Machine Learning')\n",
    "        print('Neural networks')\n",
    "        print('Vision')\n",
    "        print('Robotics')\n",
    "        print('Speech Processing')\n",
    "        print('Natural Language Processing')\n",
    "    "
   ]
  },
  {
   "cell_type": "code",
   "execution_count": 2,
   "id": "5d2cae86",
   "metadata": {},
   "outputs": [
    {
     "name": "stdout",
     "output_type": "stream",
     "text": [
      "sub-fields in AI are:\n",
      "Machine Learning\n",
      "Neural networks\n",
      "Vision\n",
      "Robotics\n",
      "Speech Processing\n",
      "Natural Language Processing\n"
     ]
    }
   ],
   "source": [
    "subfieldsInAI.subfields()"
   ]
  },
  {
   "cell_type": "code",
   "execution_count": 3,
   "id": "77c73124",
   "metadata": {},
   "outputs": [],
   "source": [
    "class oddEven():\n",
    "    def oddeven():\n",
    "        num=int(input('enter a number'))\n",
    "        if (num % 2)==0:\n",
    "            print(num,'is even number')\n",
    "        else:\n",
    "            print(num,'is odd number')"
   ]
  },
  {
   "cell_type": "code",
   "execution_count": 4,
   "id": "be7e9b5f",
   "metadata": {},
   "outputs": [
    {
     "name": "stdout",
     "output_type": "stream",
     "text": [
      "enter a number52452\n",
      "52452 is even number\n"
     ]
    }
   ],
   "source": [
    "oddEven.oddeven()"
   ]
  },
  {
   "cell_type": "code",
   "execution_count": 8,
   "id": "f1f12b86",
   "metadata": {},
   "outputs": [
    {
     "name": "stdout",
     "output_type": "stream",
     "text": [
      "enter a gendermale\n",
      "enter a age18\n"
     ]
    }
   ],
   "source": [
    "gender=input('enter a gender')\n",
    "age=int(input('enter a age'))\n",
    "class Eliegleformarriage():\n",
    "    def Eleigle():\n",
    "        if(gender=='male'):\n",
    "            print('your gender:',gender)\n",
    "        else:\n",
    "            print('your gender:',gender)\n",
    "        if(age>18):\n",
    "            print(\"your age:\",age)\n",
    "            print('eleigle')\n",
    "        else:\n",
    "            print(age,\"not eleigle\")\n",
    "        "
   ]
  },
  {
   "cell_type": "code",
   "execution_count": 9,
   "id": "1a1cc339",
   "metadata": {},
   "outputs": [
    {
     "name": "stdout",
     "output_type": "stream",
     "text": [
      "your gender: male\n",
      "18 not eleigle\n"
     ]
    }
   ],
   "source": [
    "Eliegleformarriage.Eleigle()"
   ]
  },
  {
   "cell_type": "code",
   "execution_count": 10,
   "id": "55b2bbae",
   "metadata": {},
   "outputs": [
    {
     "name": "stdout",
     "output_type": "stream",
     "text": [
      "enter subject198\n",
      "enter subject287\n",
      "enter subject395\n",
      "enter subject495\n",
      "enter subject593\n"
     ]
    }
   ],
   "source": [
    "subject1=int(input('enter subject1'))\n",
    "subject2=int(input('enter subject2'))\n",
    "subject3=int(input('enter subject3'))\n",
    "subject4=int(input('enter subject4'))\n",
    "subject5=int(input('enter subject5'))\n",
    "class findpercentage():\n",
    "    def percentage():\n",
    "        print('subject1=',subject1)\n",
    "        print('subject2=',subject2)\n",
    "        print('subject3=',subject3)\n",
    "        print('subject4=',subject4)\n",
    "        print('subject5=',subject5)\n",
    "        total=subject1+subject2+subject3+subject4+subject5\n",
    "        percent=total/5\n",
    "        print('total:',total)\n",
    "        print('percent:',percent)"
   ]
  },
  {
   "cell_type": "code",
   "execution_count": 11,
   "id": "ba83d866",
   "metadata": {},
   "outputs": [
    {
     "name": "stdout",
     "output_type": "stream",
     "text": [
      "subject1= 98\n",
      "subject2= 87\n",
      "subject3= 95\n",
      "subject4= 95\n",
      "subject5= 93\n",
      "total: 468\n",
      "percent: 93.6\n"
     ]
    }
   ],
   "source": [
    "findpercentage.percentage()"
   ]
  },
  {
   "cell_type": "code",
   "execution_count": 14,
   "id": "7340a6e6",
   "metadata": {},
   "outputs": [
    {
     "name": "stdout",
     "output_type": "stream",
     "text": [
      "enter a height:32\n",
      "32.0\n",
      "enter a breadth:34\n",
      "34.0\n",
      "enter a height1:2\n",
      "2.0\n",
      "enter a height2:4\n",
      "4.0\n",
      "enter a breadth1:4\n",
      "4.0\n"
     ]
    }
   ],
   "source": [
    "Height = float(input('enter a height:'))\n",
    "print(Height)\n",
    "Breadth = float(input('enter a breadth:'))\n",
    "print(Breadth)\n",
    "Height1 = float(input('enter a height1:'))\n",
    "print(Height1)\n",
    "Height2 = float(input('enter a height2:'))\n",
    "print(Height2)\n",
    "Breadth1 = float(input('enter a breadth1:'))\n",
    "print(Breadth1)\n",
    "class triangle():\n",
    "    def triangle():\n",
    "        print('height:',Height)\n",
    "        print(\"breadth:\",Breadth)\n",
    "        area=Height*Breadth/2\n",
    "        print('Area of triangle:',area)\n",
    "        print('height1:',Height1)\n",
    "        print('height2:',Height2) \n",
    "        print(\"breadth1:\",Breadth1)\n",
    "        parameter = Height1+Height2+Breadth1\n",
    "        print('parameter of triangle:',parameter)"
   ]
  },
  {
   "cell_type": "code",
   "execution_count": 15,
   "id": "09ce9a92",
   "metadata": {},
   "outputs": [
    {
     "name": "stdout",
     "output_type": "stream",
     "text": [
      "height: 32.0\n",
      "breadth: 34.0\n",
      "Area of triangle: 544.0\n",
      "height1: 2.0\n",
      "height2: 4.0\n",
      "breadth1: 4.0\n",
      "parameter of triangle: 10.0\n"
     ]
    }
   ],
   "source": [
    "triangle.triangle()"
   ]
  },
  {
   "cell_type": "code",
   "execution_count": null,
   "id": "94009cfe",
   "metadata": {},
   "outputs": [],
   "source": []
  }
 ],
 "metadata": {
  "kernelspec": {
   "display_name": "Python 3 (ipykernel)",
   "language": "python",
   "name": "python3"
  },
  "language_info": {
   "codemirror_mode": {
    "name": "ipython",
    "version": 3
   },
   "file_extension": ".py",
   "mimetype": "text/x-python",
   "name": "python",
   "nbconvert_exporter": "python",
   "pygments_lexer": "ipython3",
   "version": "3.9.13"
  }
 },
 "nbformat": 4,
 "nbformat_minor": 5
}
